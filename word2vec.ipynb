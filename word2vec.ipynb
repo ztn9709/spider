{
 "cells": [
  {
   "cell_type": "code",
   "execution_count": 2,
   "metadata": {},
   "outputs": [],
   "source": [
    "import itertools\n",
    "import pickle\n",
    "import re\n",
    "import tempfile\n",
    "from time import time\n",
    "\n",
    "import matplotlib\n",
    "import matplotlib.patches as mpatches\n",
    "import matplotlib.pyplot as plt\n",
    "import numpy as np\n",
    "import pandas as pd\n",
    "import requests\n",
    "import spacy\n",
    "from gensim.models import KeyedVectors, Word2Vec\n",
    "from scipy import spatial\n",
    "from sklearn import metrics\n",
    "from sklearn.decomposition import TruncatedSVD\n",
    "from sklearn.feature_extraction.text import CountVectorizer, TfidfVectorizer\n",
    "from sklearn.linear_model import LogisticRegression\n",
    "from sklearn.manifold import TSNE\n",
    "from sklearn.model_selection import train_test_split\n",
    "from sklearn.naive_bayes import MultinomialNB\n",
    "from sklearn.pipeline import Pipeline"
   ]
  },
  {
   "cell_type": "code",
   "execution_count": 3,
   "metadata": {},
   "outputs": [],
   "source": [
    "url = \"http://127.0.0.1:4000/api/paper\"\n",
    "papers = requests.get(url).json()\n",
    "corpus = []\n",
    "label = []"
   ]
  },
  {
   "cell_type": "code",
   "execution_count": null,
   "metadata": {},
   "outputs": [],
   "source": [
    "for data in papers:\n",
    "    text = data[\"title\"] + \". \" + data[\"abstract\"]\n",
    "    result = re.findall(r\"[(.*?)]\", text, re.M)\n",
    "    for r in result:\n",
    "        if \"et\" in r:\n",
    "            text = text.replace(f\" [{r}]\", \"\")\n",
    "    corpus.append(text)\n",
    "    label.append(data[\"topo_label\"])\n",
    "X_train, X_test, y_train, y_test = train_test_split(corpus, label, test_size=0.3)"
   ]
  },
  {
   "cell_type": "code",
   "execution_count": 3,
   "metadata": {},
   "outputs": [],
   "source": [
    "nlp = spacy.load(\"en_core_sci_lg\")\n",
    "\n",
    "def spacy_tokenizer(sample):\n",
    "    doc = nlp(str(sample))\n",
    "    tokens = [word.lemma_ for word in doc if not word.is_stop if len(word.text) > 1]\n",
    "    return tokens"
   ]
  },
  {
   "cell_type": "code",
   "execution_count": 4,
   "metadata": {},
   "outputs": [
    {
     "name": "stdout",
     "output_type": "stream",
     "text": [
      "开始分词\n",
      "结束分词，总计用时： 546.0849168300629\n"
     ]
    }
   ],
   "source": [
    "t0 = time()\n",
    "print(\"开始分词\")\n",
    "raw_tokens = [spacy_tokenizer(sample) for sample in corpus]\n",
    "print(\"结束分词，总计用时：\", time() - t0)"
   ]
  },
  {
   "cell_type": "code",
   "execution_count": 5,
   "metadata": {},
   "outputs": [
    {
     "name": "stdout",
     "output_type": "stream",
     "text": [
      "开始w2v模型\n",
      "15530\n",
      "结束w2v模型，总计用时： 107.60916495323181\n"
     ]
    }
   ],
   "source": [
    "t0 = time()\n",
    "print(\"开始w2v模型\")\n",
    "model = Word2Vec(raw_tokens, min_count=5, vector_size=300, workers=4, sg=1, hs=1, window=10)\n",
    "\n",
    "print(len(model.wv.index_to_key))\n",
    "print(\"结束w2v模型，总计用时：\", time() - t0)"
   ]
  },
  {
   "cell_type": "code",
   "execution_count": 1,
   "metadata": {},
   "outputs": [
    {
     "ename": "NameError",
     "evalue": "name 'tempfile' is not defined",
     "output_type": "error",
     "traceback": [
      "\u001b[1;31m---------------------------------------------------------------------------\u001b[0m",
      "\u001b[1;31mNameError\u001b[0m                                 Traceback (most recent call last)",
      "\u001b[1;32md:\\database\\python\\spider\\find_elements.ipynb Cell 6\u001b[0m in \u001b[0;36m<cell line: 1>\u001b[1;34m()\u001b[0m\n\u001b[1;32m----> <a href='vscode-notebook-cell:/d%3A/database/python/spider/find_elements.ipynb#W6sZmlsZQ%3D%3D?line=0'>1</a>\u001b[0m \u001b[39mwith\u001b[39;00m tempfile\u001b[39m.\u001b[39mNamedTemporaryFile(prefix\u001b[39m=\u001b[39m\u001b[39m\"\u001b[39m\u001b[39mgensim-model-\u001b[39m\u001b[39m\"\u001b[39m, \u001b[39mdir\u001b[39m\u001b[39m=\u001b[39m\u001b[39m\"\u001b[39m\u001b[39mD:\u001b[39m\u001b[39m\\\u001b[39m\u001b[39mdatabase\u001b[39m\u001b[39m\\\u001b[39m\u001b[39mpython\u001b[39m\u001b[39m\\\u001b[39m\u001b[39mspider\u001b[39m\u001b[39m\\\u001b[39m\u001b[39mmodel\u001b[39m\u001b[39m\"\u001b[39m, delete\u001b[39m=\u001b[39m\u001b[39mFalse\u001b[39;00m) \u001b[39mas\u001b[39;00m tmp:\n\u001b[0;32m      <a href='vscode-notebook-cell:/d%3A/database/python/spider/find_elements.ipynb#W6sZmlsZQ%3D%3D?line=1'>2</a>\u001b[0m     temporary_filepath \u001b[39m=\u001b[39m tmp\u001b[39m.\u001b[39mname\n\u001b[0;32m      <a href='vscode-notebook-cell:/d%3A/database/python/spider/find_elements.ipynb#W6sZmlsZQ%3D%3D?line=2'>3</a>\u001b[0m     model\u001b[39m.\u001b[39msave(temporary_filepath)\n",
      "\u001b[1;31mNameError\u001b[0m: name 'tempfile' is not defined"
     ]
    }
   ],
   "source": [
    "with tempfile.NamedTemporaryFile(prefix=\"gensim-model-\", dir=\"D:\\database\\python\\spider\\model\", delete=False) as tmp:\n",
    "    temporary_filepath = tmp.name\n",
    "    model.save(temporary_filepath)\n",
    "# model = Word2Vec.load(\"./model/gensim-model-wa7o86qv\")\n",
    "model.wv.save(\"model/word2vec.kv\")"
   ]
  },
  {
   "cell_type": "code",
   "execution_count": 9,
   "metadata": {},
   "outputs": [
    {
     "data": {
      "text/plain": [
       "[('vanadium-based', 0.6092997789382935),\n",
       " ('av3sb5', 0.6051902174949646),\n",
       " ('AV3Sb5', 0.595984160900116),\n",
       " ('fesn', 0.595007061958313),\n",
       " ('breathe', 0.5882386565208435),\n",
       " ('rmn6sn6', 0.5645654797554016),\n",
       " ('kv3sb5', 0.5464086532592773),\n",
       " ('csv3sb5', 0.5401225090026855),\n",
       " ('distorted', 0.5388354659080505),\n",
       " ('fe3sn2', 0.5379699468612671),\n",
       " ('corner-sharing', 0.5356065630912781),\n",
       " ('herbertsmithite', 0.534034013748169),\n",
       " ('kagome-lattice', 0.5309625864028931),\n",
       " ('cosn', 0.5253282785415649),\n",
       " ('triangular', 0.5247768759727478),\n",
       " ('intertwining', 0.5101521611213684),\n",
       " ('zncu3(oh)6cl2', 0.5086246728897095),\n",
       " ('v-based', 0.507774829864502),\n",
       " ('non-trivial', 0.5058199167251587),\n",
       " ('haf', 0.5003094673156738),\n",
       " ('antiferromagnets', 0.4997885525226593),\n",
       " ('tripod', 0.4969598948955536),\n",
       " ('averievite', 0.49079686403274536),\n",
       " ('Mn3Ge', 0.4859919548034668),\n",
       " ('swedenborgite', 0.4858311116695404),\n",
       " ('rb', 0.4855373203754425),\n",
       " ('cs', 0.47623759508132935),\n",
       " ('Kagome', 0.47328680753707886),\n",
       " ('husimi', 0.464781790971756),\n",
       " ('maple-leaf', 0.4623248875141144),\n",
       " ('rbv3sb5', 0.46040111780166626),\n",
       " ('Mn3Sn', 0.45359915494918823),\n",
       " ('mn3x', 0.4514603912830353),\n",
       " ('cu2(pymca)3(clo4', 0.4496595859527588),\n",
       " ('cosn-like', 0.4486941993236542),\n",
       " ('antiferromagnet', 0.44624486565589905),\n",
       " ('bkh', 0.44330376386642456),\n",
       " ('double-dome', 0.4405325651168823),\n",
       " ('ca10cr7o28', 0.4383006989955902),\n",
       " ('yb(babo3)3', 0.4373088777065277),\n",
       " ('dipolar-coupled', 0.4366689622402191),\n",
       " ('irmn3', 0.43337252736091614),\n",
       " ('honeycomb', 0.4326224625110626),\n",
       " ('line-graph', 0.43227940797805786),\n",
       " ('s=32', 0.42962953448295593),\n",
       " ('ba3cosb2o9', 0.42885300517082214),\n",
       " ('hyperkagome', 0.427691787481308),\n",
       " ('s=2', 0.42558661103248596),\n",
       " ('frustrate', 0.42549705505371094),\n",
       " ('mn-based', 0.4246729016304016)]"
      ]
     },
     "execution_count": 9,
     "metadata": {},
     "output_type": "execute_result"
    }
   ],
   "source": [
    "model.wv.most_similar('kagome',topn=50)"
   ]
  }
 ],
 "metadata": {
  "kernelspec": {
   "display_name": "Python 3.8.13 ('spider')",
   "language": "python",
   "name": "python3"
  },
  "language_info": {
   "codemirror_mode": {
    "name": "ipython",
    "version": 3
   },
   "file_extension": ".py",
   "mimetype": "text/x-python",
   "name": "python",
   "nbconvert_exporter": "python",
   "pygments_lexer": "ipython3",
   "version": "3.8.13"
  },
  "orig_nbformat": 4,
  "vscode": {
   "interpreter": {
    "hash": "9884c96c1ddccda2d6e7383bc1f6df597aaedfbfbdd1c828595770ae63942feb"
   }
  }
 },
 "nbformat": 4,
 "nbformat_minor": 2
}
